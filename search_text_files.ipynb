{
 "cells": [
  {
   "cell_type": "code",
   "execution_count": 1,
   "id": "7e204282",
   "metadata": {},
   "outputs": [],
   "source": [
    "import os\n",
    "import time\n",
    "import pandas as pd"
   ]
  },
  {
   "cell_type": "code",
   "execution_count": 6,
   "id": "6f25ae71",
   "metadata": {},
   "outputs": [
    {
     "name": "stdout",
     "output_type": "stream",
     "text": [
      "Total text processed is - 105824 - \n",
      "Total processing time : 271.99 \n"
     ]
    }
   ],
   "source": [
    "# bad_pipes = ['typical service connection']\n",
    "# good_pipes = ['extend copper service pipe']\n",
    "\n",
    "bad_pipes = ['galvanize', 'lead', 'asbest']\n",
    "good_pipes = ['copper', 'polyvinyl', 'pvc', 'polyethylene', 'hde', 'poly']\n",
    "\n",
    "\n",
    "text_files_path = r'C:\\Temp\\all_asbuilt_text_files'\n",
    "pipe_info = []\n",
    "start_time = time.time()\n",
    "\n",
    "# iterate each file in a directory\n",
    "txt_counter = 0\n",
    "for file in os.listdir(text_files_path):\n",
    "    if file.lower().endswith(\".txt\"):\n",
    "        asbuilt_name = \"\"\n",
    "        title_splitted = file.split(',')\n",
    "        if len(title_splitted) > 1:\n",
    "            temp_asbuilt_name = title_splitted[:-1]            \n",
    "            asbuilt_page = title_splitted[-1].lstrip().rstrip().replace(\"    \", \" \").replace(\"   \", \" \").replace(\"  \", \" \")[:-4]\n",
    "            asbuilt_name = asbuilt_name.join(temp_asbuilt_name)\n",
    "\n",
    "            if \"page\" not in asbuilt_page.lower():\n",
    "                asbuilt_page = \"Page 1\"\n",
    "        else:\n",
    "            temp_asbuilt_name = file[:-4]\n",
    "            asbuilt_name = asbuilt_name.join(temp_asbuilt_name)\n",
    "            asbuilt_page = \"Page 1\"\n",
    "\n",
    "        txt_counter += 1\n",
    "        cur_path = os.path.join(text_files_path, file)\n",
    "        with open(cur_path, 'r') as f:\n",
    "            content = f.read().lower()\n",
    "\n",
    "        # read all content of a file and search string\n",
    "        pipe_type = 'Unknown'\n",
    "        for gp in good_pipes:\n",
    "            if gp in content:\n",
    "                # print('{} -- good pipe found on -- {}'.format(gp, file))\n",
    "                pipe_type = 'Good'\n",
    "                pipe_data = {\n",
    "                    \"AsBuilt_Name\" : asbuilt_name,                                    \n",
    "                    \"AsBuilt_Page\" : asbuilt_page,\n",
    "                    \"Pipe_type\" : pipe_type,\n",
    "                    \"Keyword\" : gp\n",
    "                }\n",
    "                pipe_info.append(pipe_data)\n",
    "\n",
    "        # read all content of a file and search string\n",
    "        for bp in bad_pipes:\n",
    "            if bp in content:\n",
    "                # print('{} -- bad pipe found on -- {}'.format(bp, file))\n",
    "                pipe_type = 'Bad'\n",
    "                pipe_data = {\n",
    "                    \"AsBuilt_Name\" : asbuilt_name,                                    \n",
    "                    \"AsBuilt_Page\" : asbuilt_page,\n",
    "                    \"Pipe_type\" : pipe_type,\n",
    "                    \"Keyword\" : bp\n",
    "                }\n",
    "                pipe_info.append(pipe_data)\n",
    "\n",
    "        if pipe_type == 'Unknown':\n",
    "            pipe_data = {\n",
    "                \"AsBuilt_Name\" : asbuilt_name,                                    \n",
    "                \"AsBuilt_Page\" : asbuilt_page,\n",
    "                \"Pipe_type\" : pipe_type,\n",
    "                \"Keyword\" : \"Unmatched\"\n",
    "            }\n",
    "            pipe_info.append(pipe_data)\n",
    "\n",
    "        f.close()\n",
    "\n",
    "        \n",
    "print(\"Total text processed is - {} - \".format(txt_counter))\n",
    "end_time = time.time()\n",
    "execution_time = round(end_time-start_time, 2)\n",
    "\n",
    "keywords_df = pd.DataFrame(pipe_info)\n",
    "keywords_df.to_csv(os.path.join(dir_path, 'csv_files' , 'asbuilts_pipe_types.csv'))\n",
    "\n",
    "print(\"Total processing time : {} \".format(execution_time))"
   ]
  },
  {
   "cell_type": "code",
   "execution_count": 7,
   "id": "1b91eb0a",
   "metadata": {},
   "outputs": [
    {
     "name": "stdout",
     "output_type": "stream",
     "text": [
      "Number of processors:  8\n"
     ]
    }
   ],
   "source": [
    "import multiprocessing as mp\n",
    "print(\"Number of processors: \", mp.cpu_count())"
   ]
  },
  {
   "cell_type": "code",
   "execution_count": null,
   "id": "68da08d9",
   "metadata": {},
   "outputs": [],
   "source": [
    "# Parallelizing using Pool.apply()\n",
    "# Step 1: Init multiprocessing.Pool()\n",
    "pool = mp.Pool(mp.cpu_count())\n",
    "\n",
    "# Step 2: `pool.apply` the `howmany_within_range()`\n",
    "results = [pool.apply(howmany_within_range, args=(row, 4, 8)) for row in data]\n",
    "\n",
    "# Step 3: Don't forget to close\n",
    "pool.close()    \n",
    "\n",
    "print(results[:10])\n",
    "#> [3, 1, 4, 4, 4, 2, 1, 1, 3, 3]"
   ]
  },
  {
   "cell_type": "code",
   "execution_count": null,
   "id": "0fe1e49f",
   "metadata": {},
   "outputs": [],
   "source": [
    "# Parallelizing using Pool.map()\n",
    "\n",
    "# Redefine, with only 1 mandatory argument.\n",
    "def howmany_within_range_rowonly(row, minimum=4, maximum=8):\n",
    "    count = 0\n",
    "    for n in row:\n",
    "        if minimum <= n <= maximum:\n",
    "            count = count + 1\n",
    "    return count\n",
    "\n",
    "pool = mp.Pool(mp.cpu_count())\n",
    "\n",
    "results = pool.map(howmany_within_range_rowonly, [row for row in data])\n",
    "\n",
    "pool.close()\n",
    "\n",
    "print(results[:10])"
   ]
  },
  {
   "cell_type": "code",
   "execution_count": null,
   "id": "1f0341ae",
   "metadata": {},
   "outputs": [],
   "source": [
    "from multiprocessing import Pool\n",
    "pool = Pool()\n",
    "result1 = pool.apply_async(solve1, [A])    # evaluate \"solve1(A)\" asynchronously\n",
    "result2 = pool.apply_async(solve2, [B])    # evaluate \"solve2(B)\" asynchronously\n",
    "answer1 = result1.get(timeout=10)\n",
    "answer2 = result2.get(timeout=10)"
   ]
  }
 ],
 "metadata": {
  "kernelspec": {
   "display_name": "Python 3 (ipykernel)",
   "language": "python",
   "name": "python3"
  },
  "language_info": {
   "codemirror_mode": {
    "name": "ipython",
    "version": 3
   },
   "file_extension": ".py",
   "mimetype": "text/x-python",
   "name": "python",
   "nbconvert_exporter": "python",
   "pygments_lexer": "ipython3",
   "version": "3.9.7"
  }
 },
 "nbformat": 4,
 "nbformat_minor": 5
}
