{
 "cells": [
  {
   "cell_type": "markdown",
   "metadata": {},
   "source": [
    "## Welcome to your notebook.\n"
   ]
  },
  {
   "cell_type": "markdown",
   "metadata": {},
   "source": [
    "#### Run this cell to connect to your GIS and get started:"
   ]
  },
  {
   "cell_type": "code",
   "execution_count": 1,
   "metadata": {},
   "outputs": [],
   "source": [
    "from arcgis.gis import GIS\n",
    "#gis = GIS(\"home\")\n",
    "# import required modules\n",
    "import requests\n",
    "from bs4 import BeautifulSoup\n",
    "import json\n",
    "import pandas as pd\n",
    "import re\n",
    "import ipywidgets as widgets\n",
    "#from arcgis.features import FeatureLayer\n",
    "from arcgis.features import GeoAccessor, GeoSeriesAccessor"
   ]
  },
  {
   "cell_type": "code",
   "execution_count": 2,
   "metadata": {},
   "outputs": [
    {
     "ename": "ImportError",
     "evalue": "DLL load failed while importing arcgisscripting: %1 is not a valid Win32 application.",
     "output_type": "error",
     "traceback": [
      "\u001b[1;31m---------------------------------------------------------------------------\u001b[0m",
      "\u001b[1;31mImportError\u001b[0m                               Traceback (most recent call last)",
      "\u001b[1;32m~\\AppData\\Local\\Temp/ipykernel_17152/3709015372.py\u001b[0m in \u001b[0;36m<module>\u001b[1;34m\u001b[0m\n\u001b[1;32m----> 1\u001b[1;33m \u001b[1;32mimport\u001b[0m \u001b[0marcpy\u001b[0m\u001b[1;33m\u001b[0m\u001b[1;33m\u001b[0m\u001b[0m\n\u001b[0m",
      "\u001b[1;32mC:\\Program Files\\ArcGIS\\Pro\\Resources\\ArcPy\\arcpy\\__init__.py\u001b[0m in \u001b[0;36m<module>\u001b[1;34m\u001b[0m\n\u001b[0;32m     86\u001b[0m     \u001b[1;32mraise\u001b[0m \u001b[0mImportError\u001b[0m\u001b[1;33m(\u001b[0m\u001b[1;34m\"version mis-match\"\u001b[0m\u001b[1;33m)\u001b[0m\u001b[1;33m\u001b[0m\u001b[1;33m\u001b[0m\u001b[0m\n\u001b[0;32m     87\u001b[0m \u001b[1;33m\u001b[0m\u001b[0m\n\u001b[1;32m---> 88\u001b[1;33m \u001b[1;32mfrom\u001b[0m \u001b[0marcpy\u001b[0m\u001b[1;33m.\u001b[0m\u001b[0mgeoprocessing\u001b[0m \u001b[1;32mimport\u001b[0m \u001b[0mgp\u001b[0m\u001b[1;33m\u001b[0m\u001b[1;33m\u001b[0m\u001b[0m\n\u001b[0m\u001b[0;32m     89\u001b[0m \u001b[1;32mfrom\u001b[0m \u001b[0marcpy\u001b[0m\u001b[1;33m.\u001b[0m\u001b[0mgeoprocessing\u001b[0m \u001b[1;32mimport\u001b[0m \u001b[0menv\u001b[0m\u001b[1;33m\u001b[0m\u001b[1;33m\u001b[0m\u001b[0m\n\u001b[0;32m     90\u001b[0m \u001b[1;32mfrom\u001b[0m \u001b[0marcpy\u001b[0m\u001b[1;33m.\u001b[0m\u001b[0mgeoprocessing\u001b[0m\u001b[1;33m.\u001b[0m\u001b[0m_base\u001b[0m \u001b[1;32mimport\u001b[0m \u001b[0mgptooldoc\u001b[0m \u001b[1;32mas\u001b[0m \u001b[0m_gptooldoc\u001b[0m\u001b[1;33m\u001b[0m\u001b[1;33m\u001b[0m\u001b[0m\n",
      "\u001b[1;32mC:\\Program Files\\ArcGIS\\Pro\\Resources\\ArcPy\\arcpy\\geoprocessing\\__init__.py\u001b[0m in \u001b[0;36m<module>\u001b[1;34m\u001b[0m\n\u001b[0;32m     12\u001b[0m \u001b[1;31m#\u001b[0m\u001b[1;33m\u001b[0m\u001b[1;33m\u001b[0m\u001b[0m\n\u001b[0;32m     13\u001b[0m \u001b[1;31m#email: contracts@esri.com\u001b[0m\u001b[1;33m\u001b[0m\u001b[1;33m\u001b[0m\u001b[0m\n\u001b[1;32m---> 14\u001b[1;33m \u001b[1;32mfrom\u001b[0m \u001b[1;33m.\u001b[0m\u001b[0m_base\u001b[0m \u001b[1;32mimport\u001b[0m \u001b[1;33m*\u001b[0m\u001b[1;33m\u001b[0m\u001b[1;33m\u001b[0m\u001b[0m\n\u001b[0m",
      "\u001b[1;32mC:\\Program Files\\ArcGIS\\Pro\\Resources\\ArcPy\\arcpy\\geoprocessing\\_base.py\u001b[0m in \u001b[0;36m<module>\u001b[1;34m\u001b[0m\n\u001b[0;32m     12\u001b[0m \u001b[1;31m#\u001b[0m\u001b[1;33m\u001b[0m\u001b[1;33m\u001b[0m\u001b[0m\n\u001b[0;32m     13\u001b[0m \u001b[1;31m#email: contracts@esri.com\u001b[0m\u001b[1;33m\u001b[0m\u001b[1;33m\u001b[0m\u001b[0m\n\u001b[1;32m---> 14\u001b[1;33m \u001b[1;32mimport\u001b[0m \u001b[0marcgisscripting\u001b[0m\u001b[1;33m\u001b[0m\u001b[1;33m\u001b[0m\u001b[0m\n\u001b[0m\u001b[0;32m     15\u001b[0m \u001b[1;32mimport\u001b[0m \u001b[0mfunctools\u001b[0m\u001b[1;33m\u001b[0m\u001b[1;33m\u001b[0m\u001b[0m\n\u001b[0;32m     16\u001b[0m \u001b[1;33m\u001b[0m\u001b[0m\n",
      "\u001b[1;31mImportError\u001b[0m: DLL load failed while importing arcgisscripting: %1 is not a valid Win32 application."
     ]
    }
   ],
   "source": [
    "import arcpy"
   ]
  },
  {
   "cell_type": "code",
   "execution_count": 2,
   "metadata": {},
   "outputs": [],
   "source": [
    "import requests\n",
    "# use API sets from https://exchangeratesapi.io/documentation/\n",
    "# Where USD is the base currency you want to use\n",
    "# Make sure to remove the \"s\" in https to work\n",
    "url = 'http://api.exchangeratesapi.io/v1/latest?access_key=6ff6a702f802b29210184460f0c47f95'"
   ]
  },
  {
   "cell_type": "code",
   "execution_count": 3,
   "metadata": {},
   "outputs": [
    {
     "name": "stdout",
     "output_type": "stream",
     "text": [
      "{'success': True, 'timestamp': 1638968644, 'base': 'EUR', 'date': '2021-12-08', 'rates': {'AED': 4.150463, 'AFN': 110.674871, 'ALL': 121.365728, 'AMD': 557.972703, 'ANG': 2.037715, 'AOA': 637.535116, 'ARS': 114.552257, 'AUD': 1.584912, 'AWG': 2.034498, 'AZN': 1.919455, 'BAM': 1.961093, 'BBD': 2.282866, 'BDT': 97.004069, 'BGN': 1.959163, 'BHD': 0.425993, 'BIF': 2253.267618, 'BMD': 1.129963, 'BND': 1.542672, 'BOB': 7.807146, 'BRL': 6.347795, 'BSD': 1.130604, 'BTC': 2.2931062e-05, 'BTN': 85.304079, 'BWP': 13.208558, 'BYN': 2.874515, 'BYR': 22147.268033, 'BZD': 2.279056, 'CAD': 1.427996, 'CDF': 2262.185097, 'CHF': 1.043284, 'CLF': 0.034393, 'CLP': 948.998812, 'CNY': 7.173118, 'COP': 4421.080583, 'CRC': 717.075488, 'CUC': 1.129963, 'CUP': 29.94401, 'CVE': 110.56075, 'CZK': 25.462591, 'DJF': 201.284875, 'DKK': 7.435889, 'DOP': 64.153475, 'DZD': 156.962723, 'EGP': 17.754538, 'ERN': 16.949791, 'ETB': 54.512256, 'EUR': 1, 'FJD': 2.410889, 'FKP': 0.842313, 'GBP': 0.856031, 'GEL': 3.497263, 'GGP': 0.842313, 'GHS': 6.981753, 'GIP': 0.842313, 'GMD': 59.322963, 'GNF': 10737.733426, 'GTQ': 8.739925, 'GYD': 236.678928, 'HKD': 8.809477, 'HNL': 27.318594, 'HRK': 7.525635, 'HTG': 112.940116, 'HUF': 368.136215, 'IDR': 16213.664638, 'ILS': 3.514874, 'IMP': 0.842313, 'INR': 85.255287, 'IQD': 1649.613525, 'IRR': 47740.921795, 'ISK': 147.415228, 'JEP': 0.842313, 'JMD': 175.126412, 'JOD': 0.801083, 'JPY': 128.516869, 'KES': 127.606998, 'KGS': 95.819931, 'KHR': 4603.952615, 'KMF': 494.528564, 'KPW': 1016.966785, 'KRW': 1328.932156, 'KWD': 0.34222, 'KYD': 0.942296, 'KZT': 493.924694, 'LAK': 12390.826197, 'LBP': 1709.542776, 'LKR': 229.402925, 'LRD': 160.285188, 'LSL': 17.969027, 'LTL': 3.336486, 'LVL': 0.683503, 'LYD': 5.20156, 'MAD': 10.439217, 'MDL': 19.940919, 'MGA': 4486.98328, 'MKD': 61.79448, 'MMK': 2012.520559, 'MNT': 3229.680291, 'MOP': 9.080369, 'MRO': 403.396473, 'MUR': 48.588325, 'MVR': 17.390722, 'MWK': 923.689524, 'MXN': 23.652208, 'MYR': 4.773526, 'MZN': 72.12527, 'NAD': 17.964113, 'NGN': 464.697322, 'NIO': 39.832848, 'NOK': 10.099495, 'NPR': 136.50001, 'NZD': 1.666712, 'OMR': 0.435022, 'PAB': 1.130604, 'PEN': 4.610953, 'PGK': 3.969879, 'PHP': 56.786838, 'PKR': 200.851276, 'PLN': 4.594835, 'PYG': 7733.650664, 'QAR': 4.114125, 'RON': 4.948897, 'RSD': 117.600878, 'RUB': 83.304799, 'RWF': 1171.698745, 'SAR': 4.239022, 'SBD': 9.123676, 'SCR': 14.851166, 'SDG': 494.351169, 'SEK': 10.252931, 'SGD': 1.54161, 'SHP': 1.556411, 'SLL': 12576.484153, 'SOS': 659.898519, 'SRD': 24.275556, 'STD': 23387.945567, 'SVC': 9.893289, 'SYP': 1420.118486, 'SZL': 17.830381, 'THB': 37.832261, 'TJS': 12.765077, 'TMT': 3.966169, 'TND': 3.265027, 'TOP': 2.58671, 'TRY': 15.493255, 'TTD': 7.68813, 'TWD': 31.331043, 'TZS': 2605.123931, 'UAH': 30.737495, 'UGX': 4034.119885, 'USD': 1.129963, 'UYU': 49.934692, 'UZS': 12190.935025, 'VEF': 241620165695.54605, 'VND': 25910.043673, 'VUV': 125.787001, 'WST': 2.896819, 'XAF': 657.69305, 'XAG': 0.050418, 'XAU': 0.000633, 'XCD': 3.05378, 'XDR': 0.809838, 'XOF': 657.704722, 'XPF': 120.397193, 'YER': 282.773243, 'ZAR': 17.832847, 'ZMK': 10171.024653, 'ZMW': 19.560278, 'ZWL': 363.847514}}\n"
     ]
    }
   ],
   "source": [
    "# Making our request\n",
    "response = requests.get(url)\n",
    "data = response.json()\n",
    "# Your JSON object\n",
    "print(data)"
   ]
  },
  {
   "cell_type": "code",
   "execution_count": 4,
   "metadata": {},
   "outputs": [],
   "source": [
    "currency_rates = pd.DataFrame(data)\n",
    "currency_rates\n",
    "currency_rates_usd_based = pd.DataFrame(data)"
   ]
  },
  {
   "cell_type": "code",
   "execution_count": 5,
   "metadata": {},
   "outputs": [
    {
     "data": {
      "text/plain": [
       "1.129963"
      ]
     },
     "execution_count": 5,
     "metadata": {},
     "output_type": "execute_result"
    }
   ],
   "source": [
    "# Base files or origin country is Euros\n",
    "# Find currency rate for USA dollars and convert\n",
    "#Set that value for your base or Origin Country currency\n",
    "currency_rates['rates']['USD']"
   ]
  },
  {
   "cell_type": "code",
   "execution_count": 13,
   "metadata": {},
   "outputs": [
    {
     "ename": "ImportError",
     "evalue": "Could not import arcpy",
     "output_type": "error",
     "traceback": [
      "\u001b[1;31m---------------------------------------------------------------------------\u001b[0m",
      "\u001b[1;31mModuleNotFoundError\u001b[0m                       Traceback (most recent call last)",
      "\u001b[1;32mC:\\Anaconda3\\lib\\site-packages\\arcgis\\gis\\_impl\\_portalpy.py\u001b[0m in \u001b[0;36m__init__\u001b[1;34m(self, url, username, password, key_file, cert_file, expiration, referer, proxy_host, proxy_port, connection, workdir, tokenurl, verify_cert, client_id, custom_auth, token, **kwargs)\u001b[0m\n\u001b[0;32m    110\u001b[0m             \u001b[1;32mtry\u001b[0m\u001b[1;33m:\u001b[0m\u001b[1;33m\u001b[0m\u001b[1;33m\u001b[0m\u001b[0m\n\u001b[1;32m--> 111\u001b[1;33m                 \u001b[1;32mimport\u001b[0m \u001b[0marcpy\u001b[0m\u001b[1;33m\u001b[0m\u001b[1;33m\u001b[0m\u001b[0m\n\u001b[0m\u001b[0;32m    112\u001b[0m \u001b[1;33m\u001b[0m\u001b[0m\n",
      "\u001b[1;31mModuleNotFoundError\u001b[0m: No module named 'arcpy'",
      "\nDuring handling of the above exception, another exception occurred:\n",
      "\u001b[1;31mImportError\u001b[0m                               Traceback (most recent call last)",
      "\u001b[1;32m~\\AppData\\Local\\Temp/ipykernel_11716/1352747255.py\u001b[0m in \u001b[0;36m<module>\u001b[1;34m\u001b[0m\n\u001b[0;32m      1\u001b[0m \u001b[1;31m# Create a map\u001b[0m\u001b[1;33m\u001b[0m\u001b[1;33m\u001b[0m\u001b[0m\n\u001b[1;32m----> 2\u001b[1;33m \u001b[0mgis\u001b[0m \u001b[1;33m=\u001b[0m \u001b[0mGIS\u001b[0m\u001b[1;33m(\u001b[0m\u001b[1;34m\"home\"\u001b[0m\u001b[1;33m)\u001b[0m\u001b[1;33m\u001b[0m\u001b[1;33m\u001b[0m\u001b[0m\n\u001b[0m\u001b[0;32m      3\u001b[0m \u001b[0mmap1\u001b[0m \u001b[1;33m=\u001b[0m \u001b[0mgis\u001b[0m\u001b[1;33m.\u001b[0m\u001b[0mmap\u001b[0m\u001b[1;33m(\u001b[0m\u001b[1;33m)\u001b[0m\u001b[1;33m\u001b[0m\u001b[1;33m\u001b[0m\u001b[0m\n\u001b[0;32m      4\u001b[0m \u001b[0mmap1\u001b[0m\u001b[1;33m\u001b[0m\u001b[1;33m\u001b[0m\u001b[0m\n",
      "\u001b[1;32mC:\\Anaconda3\\lib\\site-packages\\arcgis\\gis\\__init__.py\u001b[0m in \u001b[0;36m__init__\u001b[1;34m(self, url, username, password, key_file, cert_file, verify_cert, set_active, client_id, profile, **kwargs)\u001b[0m\n\u001b[0;32m    481\u001b[0m                 )\n\u001b[0;32m    482\u001b[0m             \u001b[1;32melse\u001b[0m\u001b[1;33m:\u001b[0m\u001b[1;33m\u001b[0m\u001b[1;33m\u001b[0m\u001b[0m\n\u001b[1;32m--> 483\u001b[1;33m                 \u001b[1;32mraise\u001b[0m \u001b[0me\u001b[0m\u001b[1;33m\u001b[0m\u001b[1;33m\u001b[0m\u001b[0m\n\u001b[0m\u001b[0;32m    484\u001b[0m         \u001b[1;32mtry\u001b[0m\u001b[1;33m:\u001b[0m\u001b[1;33m\u001b[0m\u001b[1;33m\u001b[0m\u001b[0m\n\u001b[0;32m    485\u001b[0m             if (\n",
      "\u001b[1;32mC:\\Anaconda3\\lib\\site-packages\\arcgis\\gis\\__init__.py\u001b[0m in \u001b[0;36m__init__\u001b[1;34m(self, url, username, password, key_file, cert_file, verify_cert, set_active, client_id, profile, **kwargs)\u001b[0m\n\u001b[0;32m    426\u001b[0m             \u001b[0mself\u001b[0m\u001b[1;33m.\u001b[0m\u001b[0m_expiration\u001b[0m \u001b[1;33m=\u001b[0m \u001b[1;36m60\u001b[0m\u001b[1;33m\u001b[0m\u001b[1;33m\u001b[0m\u001b[0m\n\u001b[0;32m    427\u001b[0m         \u001b[1;32mtry\u001b[0m\u001b[1;33m:\u001b[0m\u001b[1;33m\u001b[0m\u001b[1;33m\u001b[0m\u001b[0m\n\u001b[1;32m--> 428\u001b[1;33m             self._portal = _portalpy.Portal(\n\u001b[0m\u001b[0;32m    429\u001b[0m                 \u001b[0mself\u001b[0m\u001b[1;33m.\u001b[0m\u001b[0m_url\u001b[0m\u001b[1;33m,\u001b[0m\u001b[1;33m\u001b[0m\u001b[1;33m\u001b[0m\u001b[0m\n\u001b[0;32m    430\u001b[0m                 \u001b[0mself\u001b[0m\u001b[1;33m.\u001b[0m\u001b[0m_username\u001b[0m\u001b[1;33m,\u001b[0m\u001b[1;33m\u001b[0m\u001b[1;33m\u001b[0m\u001b[0m\n",
      "\u001b[1;32mC:\\Anaconda3\\lib\\site-packages\\arcgis\\gis\\_impl\\_portalpy.py\u001b[0m in \u001b[0;36m__init__\u001b[1;34m(self, url, username, password, key_file, cert_file, expiration, referer, proxy_host, proxy_port, connection, workdir, tokenurl, verify_cert, client_id, custom_auth, token, **kwargs)\u001b[0m\n\u001b[0;32m    116\u001b[0m                 \u001b[0mself\u001b[0m\u001b[1;33m.\u001b[0m\u001b[0murl\u001b[0m \u001b[1;33m=\u001b[0m \u001b[0murl\u001b[0m\u001b[1;33m\u001b[0m\u001b[1;33m\u001b[0m\u001b[0m\n\u001b[0;32m    117\u001b[0m             \u001b[1;32mexcept\u001b[0m \u001b[0mImportError\u001b[0m\u001b[1;33m:\u001b[0m\u001b[1;33m\u001b[0m\u001b[1;33m\u001b[0m\u001b[0m\n\u001b[1;32m--> 118\u001b[1;33m                 \u001b[1;32mraise\u001b[0m \u001b[0mImportError\u001b[0m\u001b[1;33m(\u001b[0m\u001b[1;34m\"Could not import arcpy\"\u001b[0m\u001b[1;33m)\u001b[0m\u001b[1;33m\u001b[0m\u001b[1;33m\u001b[0m\u001b[0m\n\u001b[0m\u001b[0;32m    119\u001b[0m             \u001b[1;32mexcept\u001b[0m\u001b[1;33m:\u001b[0m\u001b[1;33m\u001b[0m\u001b[1;33m\u001b[0m\u001b[0m\n\u001b[0;32m    120\u001b[0m                 \u001b[1;32mraise\u001b[0m \u001b[0mValueError\u001b[0m\u001b[1;33m(\u001b[0m\u001b[1;34m\"Could not use Pro authentication.\"\u001b[0m\u001b[1;33m)\u001b[0m\u001b[1;33m\u001b[0m\u001b[1;33m\u001b[0m\u001b[0m\n",
      "\u001b[1;31mImportError\u001b[0m: Could not import arcpy"
     ]
    }
   ],
   "source": [
    "# Create a map\n",
    "gis = GIS(\"home\")\n",
    "map1 = gis.map()\n",
    "map1"
   ]
  },
  {
   "cell_type": "code",
   "execution_count": 11,
   "metadata": {},
   "outputs": [
    {
     "ename": "ModuleNotFoundError",
     "evalue": "No module named 'arcpy'",
     "output_type": "error",
     "traceback": [
      "\u001b[1;31m---------------------------------------------------------------------------\u001b[0m",
      "\u001b[1;31mModuleNotFoundError\u001b[0m                       Traceback (most recent call last)",
      "\u001b[1;32m~\\AppData\\Local\\Temp/ipykernel_11716/3709015372.py\u001b[0m in \u001b[0;36m<module>\u001b[1;34m\u001b[0m\n\u001b[1;32m----> 1\u001b[1;33m \u001b[1;32mimport\u001b[0m \u001b[0marcpy\u001b[0m\u001b[1;33m\u001b[0m\u001b[1;33m\u001b[0m\u001b[0m\n\u001b[0m",
      "\u001b[1;31mModuleNotFoundError\u001b[0m: No module named 'arcpy'"
     ]
    }
   ],
   "source": [
    "import arcpy"
   ]
  },
  {
   "cell_type": "code",
   "execution_count": 16,
   "metadata": {},
   "outputs": [
    {
     "data": {
      "text/html": [
       "<div class=\"item_container\" style=\"height: auto; overflow: hidden; border: 1px solid #cfcfcf; border-radius: 2px; background: #f6fafa; line-height: 1.21429em; padding: 10px;\">\n",
       "                    <div class=\"item_left\" style=\"width: 210px; float: left;\">\n",
       "                       <a href='https://www.arcgis.com/home/item.html?id=ac80670eb213440ea5899bbf92a04998' target='_blank'>\n",
       "                        <img src='data:image/png;base64,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' width='200' height='133' class=\"itemThumbnail\">\n",
       "                       </a>\n",
       "                    </div>\n",
       "\n",
       "                    <div class=\"item_right\"     style=\"float: none; width: auto; overflow: hidden;\">\n",
       "                        <a href='https://www.arcgis.com/home/item.html?id=ac80670eb213440ea5899bbf92a04998' target='_blank'><b>World Countries</b>\n",
       "                        </a>\n",
       "                        <br/>World Countries represents detailed boundaries for the countries of the world.<img src='https://www.arcgis.com/home/js/jsapi/esri/css/images/item_type_icons/featureshosted16.png' style=\"vertical-align:middle;\">Feature Layer Collection by esri_dm\n",
       "                        <br/>Last Modified: August 26, 2021\n",
       "                        <br/>0 comments, 1,954,024 views\n",
       "                    </div>\n",
       "                </div>\n",
       "                "
      ],
      "text/plain": [
       "<Item title:\"World Countries\" type:Feature Layer Collection owner:esri_dm>"
      ]
     },
     "execution_count": 16,
     "metadata": {},
     "output_type": "execute_result"
    }
   ],
   "source": [
    "# Retrieve an item from ArcGIS Online from a known ID value\n",
    "world_countries = gis.content.get(\"ac80670eb213440ea5899bbf92a04998\")\n",
    "world_countries"
   ]
  },
  {
   "cell_type": "code",
   "execution_count": 17,
   "metadata": {},
   "outputs": [],
   "source": [
    "map.add_layer(world_countries)"
   ]
  },
  {
   "cell_type": "code",
   "execution_count": 27,
   "metadata": {},
   "outputs": [
    {
     "data": {
      "text/plain": [
       "<FeatureLayer url:\"https://services.arcgis.com/P3ePLMYs2RVChkJx/arcgis/rest/services/World_Countries/FeatureServer/0\">"
      ]
     },
     "execution_count": 27,
     "metadata": {},
     "output_type": "execute_result"
    }
   ],
   "source": [
    "world_countries.layers[0]"
   ]
  },
  {
   "cell_type": "code",
   "execution_count": 64,
   "metadata": {},
   "outputs": [
    {
     "name": "stdout",
     "output_type": "stream",
     "text": [
      "249 243\n"
     ]
    },
    {
     "data": {
      "text/plain": [
       "[' ',\n",
       " 'Afghanistan',\n",
       " 'Albania',\n",
       " 'Algeria',\n",
       " 'American Samoa',\n",
       " 'Andorra',\n",
       " 'Angola',\n",
       " 'Anguilla',\n",
       " 'Antarctica',\n",
       " 'Antigua and Barbuda',\n",
       " 'Argentina',\n",
       " 'Armenia',\n",
       " 'Aruba',\n",
       " 'Australia',\n",
       " 'Austria',\n",
       " 'Azerbaijan',\n",
       " 'Azores',\n",
       " 'Bahamas',\n",
       " 'Bahrain',\n",
       " 'Bangladesh',\n",
       " 'Barbados',\n",
       " 'Belarus',\n",
       " 'Belgium',\n",
       " 'Belize',\n",
       " 'Benin',\n",
       " 'Bermuda',\n",
       " 'Bhutan',\n",
       " 'Bolivia',\n",
       " 'Bonaire',\n",
       " 'Bosnia and Herzegovina',\n",
       " 'Botswana',\n",
       " 'Bouvet Island',\n",
       " 'Brazil',\n",
       " 'British Indian Ocean Territory',\n",
       " 'British Virgin Islands',\n",
       " 'Brunei Darussalam',\n",
       " 'Bulgaria',\n",
       " 'Burkina Faso',\n",
       " 'Burundi',\n",
       " 'Cabo Verde',\n",
       " 'Cambodia',\n",
       " 'Cameroon',\n",
       " 'Canada',\n",
       " 'Canarias',\n",
       " 'Cayman Islands',\n",
       " 'Central African Republic',\n",
       " 'Chad',\n",
       " 'Chile',\n",
       " 'China',\n",
       " 'Christmas Island',\n",
       " 'Clipperton',\n",
       " 'Cocos Islands',\n",
       " 'Colombia',\n",
       " 'Comoros',\n",
       " 'Congo',\n",
       " 'Congo DRC',\n",
       " 'Cook Islands',\n",
       " 'Costa Rica',\n",
       " \"Côte d'Ivoire\",\n",
       " 'Croatia',\n",
       " 'Cuba',\n",
       " 'Curacao',\n",
       " 'Cyprus',\n",
       " 'Czech Republic',\n",
       " 'Denmark',\n",
       " 'Djibouti',\n",
       " 'Dominica',\n",
       " 'Dominican Republic',\n",
       " 'Ecuador',\n",
       " 'Egypt',\n",
       " 'El Salvador',\n",
       " 'Equatorial Guinea',\n",
       " 'Eritrea',\n",
       " 'Estonia',\n",
       " 'Eswatini',\n",
       " 'Ethiopia',\n",
       " 'Falkland Islands',\n",
       " 'Faroe Islands',\n",
       " 'Fiji',\n",
       " 'Finland',\n",
       " 'France',\n",
       " 'French Guiana',\n",
       " 'French Polynesia',\n",
       " 'French Southern Territories',\n",
       " 'Gabon',\n",
       " 'Gambia',\n",
       " 'Georgia',\n",
       " 'Germany',\n",
       " 'Ghana',\n",
       " 'Gibraltar',\n",
       " 'Greece',\n",
       " 'Greenland',\n",
       " 'Grenada',\n",
       " 'Guadeloupe',\n",
       " 'Guam',\n",
       " 'Guatemala',\n",
       " 'Guernsey',\n",
       " 'Guinea',\n",
       " 'Guinea-Bissau',\n",
       " 'Guyana',\n",
       " 'Haiti',\n",
       " 'Heard Island and McDonald Islands',\n",
       " 'Honduras',\n",
       " 'Hungary',\n",
       " 'Iceland',\n",
       " 'India',\n",
       " 'Indonesia',\n",
       " 'Iran',\n",
       " 'Iraq',\n",
       " 'Ireland',\n",
       " 'Isle of Man',\n",
       " 'Israel',\n",
       " 'Italy',\n",
       " 'Jamaica',\n",
       " 'Japan',\n",
       " 'Jersey',\n",
       " 'Jordan',\n",
       " 'Kazakhstan',\n",
       " 'Kenya',\n",
       " 'Kiribati',\n",
       " 'Kuwait',\n",
       " 'Kyrgyzstan',\n",
       " 'Laos',\n",
       " 'Latvia',\n",
       " 'Lebanon',\n",
       " 'Lesotho',\n",
       " 'Liberia',\n",
       " 'Libya',\n",
       " 'Liechtenstein',\n",
       " 'Lithuania',\n",
       " 'Luxembourg',\n",
       " 'Madagascar',\n",
       " 'Madeira',\n",
       " 'Malawi',\n",
       " 'Malaysia',\n",
       " 'Maldives',\n",
       " 'Mali',\n",
       " 'Malta',\n",
       " 'Marshall Islands',\n",
       " 'Martinique',\n",
       " 'Mauritania',\n",
       " 'Mauritius',\n",
       " 'Mayotte',\n",
       " 'Mexico',\n",
       " 'Micronesia',\n",
       " 'Moldova',\n",
       " 'Monaco',\n",
       " 'Mongolia',\n",
       " 'Montenegro',\n",
       " 'Montserrat',\n",
       " 'Morocco',\n",
       " 'Mozambique',\n",
       " 'Myanmar',\n",
       " 'Namibia',\n",
       " 'Nauru',\n",
       " 'Nepal',\n",
       " 'Netherlands',\n",
       " 'New Caledonia',\n",
       " 'New Zealand',\n",
       " 'Nicaragua',\n",
       " 'Niger',\n",
       " 'Nigeria',\n",
       " 'Norfolk Island',\n",
       " 'North Korea',\n",
       " 'North Macedonia',\n",
       " 'Northern Mariana Islands',\n",
       " 'Norway',\n",
       " 'Oman',\n",
       " 'Pakistan',\n",
       " 'Palau',\n",
       " 'Palestinian Territory',\n",
       " 'Panama',\n",
       " 'Papua New Guinea',\n",
       " 'Paraguay',\n",
       " 'Peru',\n",
       " 'Philippines',\n",
       " 'Pitcairn',\n",
       " 'Poland',\n",
       " 'Portugal',\n",
       " 'Puerto Rico',\n",
       " 'Qatar',\n",
       " 'Réunion',\n",
       " 'Romania',\n",
       " 'Russian Federation',\n",
       " 'Rwanda',\n",
       " 'Saba',\n",
       " 'Saint Barthelemy',\n",
       " 'Saint Eustatius',\n",
       " 'Saint Helena',\n",
       " 'Saint Kitts and Nevis',\n",
       " 'Saint Lucia',\n",
       " 'Saint Martin',\n",
       " 'Saint Pierre and Miquelon',\n",
       " 'Saint Vincent and the Grenadines',\n",
       " 'Samoa',\n",
       " 'San Marino',\n",
       " 'Sao Tome and Principe',\n",
       " 'Saudi Arabia',\n",
       " 'Senegal',\n",
       " 'Serbia',\n",
       " 'Seychelles',\n",
       " 'Sierra Leone',\n",
       " 'Singapore',\n",
       " 'Sint Maarten',\n",
       " 'Slovakia',\n",
       " 'Slovenia',\n",
       " 'Solomon Islands',\n",
       " 'Somalia',\n",
       " 'South Africa',\n",
       " 'South Georgia and South Sandwich Islands',\n",
       " 'South Korea',\n",
       " 'South Sudan',\n",
       " 'Spain',\n",
       " 'Sri Lanka',\n",
       " 'Sudan',\n",
       " 'Suriname',\n",
       " 'Sweden',\n",
       " 'Switzerland',\n",
       " 'Syria',\n",
       " 'Tajikistan',\n",
       " 'Tanzania',\n",
       " 'Thailand',\n",
       " 'Timor-Leste',\n",
       " 'Togo',\n",
       " 'Tokelau',\n",
       " 'Tonga',\n",
       " 'Trinidad and Tobago',\n",
       " 'Tunisia',\n",
       " 'Turkey',\n",
       " 'Turkmenistan',\n",
       " 'Turks and Caicos Islands',\n",
       " 'Tuvalu',\n",
       " 'Uganda',\n",
       " 'Ukraine',\n",
       " 'United Arab Emirates',\n",
       " 'United Kingdom',\n",
       " 'United States',\n",
       " 'United States Minor Outlying Islands',\n",
       " 'Uruguay',\n",
       " 'US Virgin Islands',\n",
       " 'Uzbekistan',\n",
       " 'Vanuatu',\n",
       " 'Vatican City',\n",
       " 'Venezuela',\n",
       " 'Vietnam',\n",
       " 'Wallis and Futuna',\n",
       " 'Yemen',\n",
       " 'Zambia',\n",
       " 'Zimbabwe']"
      ]
     },
     "execution_count": 64,
     "metadata": {},
     "output_type": "execute_result"
    }
   ],
   "source": [
    "# Obtain the first feature layer from the item\n",
    "fl = world_countries.layers[0]\n",
    "country_names = fl.get_unique_values(attribute = \"COUNTRY\")\n",
    "country_codes = fl.get_unique_values(attribute = \"ISO_CC\")\n",
    "country_names\n",
    "country_codes\n",
    "print(len(country_names),len(country_codes))\n",
    "country_names"
   ]
  },
  {
   "cell_type": "code",
   "execution_count": 73,
   "metadata": {},
   "outputs": [
    {
     "data": {
      "text/plain": [
       "[(' ', 1),\n",
       " ('Afghanistan', 2),\n",
       " ('Albania', 3),\n",
       " ('Algeria', 4),\n",
       " ('American Samoa', 5),\n",
       " ('Andorra', 6),\n",
       " ('Angola', 7),\n",
       " ('Anguilla', 8),\n",
       " ('Antarctica', 9),\n",
       " ('Antigua and Barbuda', 10),\n",
       " ('Argentina', 11),\n",
       " ('Armenia', 12),\n",
       " ('Aruba', 13),\n",
       " ('Australia', 14),\n",
       " ('Austria', 15),\n",
       " ('Azerbaijan', 16),\n",
       " ('Azores', 17),\n",
       " ('Bahamas', 18),\n",
       " ('Bahrain', 19),\n",
       " ('Bangladesh', 20),\n",
       " ('Barbados', 21),\n",
       " ('Belarus', 22),\n",
       " ('Belgium', 23),\n",
       " ('Belize', 24),\n",
       " ('Benin', 25),\n",
       " ('Bermuda', 26),\n",
       " ('Bhutan', 27),\n",
       " ('Bolivia', 28),\n",
       " ('Bonaire', 29),\n",
       " ('Bosnia and Herzegovina', 30),\n",
       " ('Botswana', 31),\n",
       " ('Bouvet Island', 32),\n",
       " ('Brazil', 33),\n",
       " ('British Indian Ocean Territory', 34),\n",
       " ('British Virgin Islands', 35),\n",
       " ('Brunei Darussalam', 36),\n",
       " ('Bulgaria', 37),\n",
       " ('Burkina Faso', 38),\n",
       " ('Burundi', 39),\n",
       " ('Cabo Verde', 40),\n",
       " ('Cambodia', 41),\n",
       " ('Cameroon', 42),\n",
       " ('Canada', 43),\n",
       " ('Canarias', 44),\n",
       " ('Cayman Islands', 45),\n",
       " ('Central African Republic', 46),\n",
       " ('Chad', 47),\n",
       " ('Chile', 48),\n",
       " ('China', 49),\n",
       " ('Christmas Island', 50),\n",
       " ('Clipperton', 51),\n",
       " ('Cocos Islands', 52),\n",
       " ('Colombia', 53),\n",
       " ('Comoros', 54),\n",
       " ('Congo', 55),\n",
       " ('Congo DRC', 56),\n",
       " ('Cook Islands', 57),\n",
       " ('Costa Rica', 58),\n",
       " (\"Côte d'Ivoire\", 59),\n",
       " ('Croatia', 60),\n",
       " ('Cuba', 61),\n",
       " ('Curacao', 62),\n",
       " ('Cyprus', 63),\n",
       " ('Czech Republic', 64),\n",
       " ('Denmark', 65),\n",
       " ('Djibouti', 66),\n",
       " ('Dominica', 67),\n",
       " ('Dominican Republic', 68),\n",
       " ('Ecuador', 69),\n",
       " ('Egypt', 70),\n",
       " ('El Salvador', 71),\n",
       " ('Equatorial Guinea', 72),\n",
       " ('Eritrea', 73),\n",
       " ('Estonia', 74),\n",
       " ('Eswatini', 75),\n",
       " ('Ethiopia', 76),\n",
       " ('Falkland Islands', 77),\n",
       " ('Faroe Islands', 78),\n",
       " ('Fiji', 79),\n",
       " ('Finland', 80),\n",
       " ('France', 81),\n",
       " ('French Guiana', 82),\n",
       " ('French Polynesia', 83),\n",
       " ('French Southern Territories', 84),\n",
       " ('Gabon', 85),\n",
       " ('Gambia', 86),\n",
       " ('Georgia', 87),\n",
       " ('Germany', 88),\n",
       " ('Ghana', 89),\n",
       " ('Gibraltar', 90),\n",
       " ('Greece', 91),\n",
       " ('Greenland', 92),\n",
       " ('Grenada', 93),\n",
       " ('Guadeloupe', 94),\n",
       " ('Guam', 95),\n",
       " ('Guatemala', 96),\n",
       " ('Guernsey', 97),\n",
       " ('Guinea', 98),\n",
       " ('Guinea-Bissau', 99),\n",
       " ('Guyana', 100),\n",
       " ('Haiti', 101),\n",
       " ('Heard Island and McDonald Islands', 102),\n",
       " ('Honduras', 103),\n",
       " ('Hungary', 104),\n",
       " ('Iceland', 105),\n",
       " ('India', 106),\n",
       " ('Indonesia', 107),\n",
       " ('Iran', 108),\n",
       " ('Iraq', 109),\n",
       " ('Ireland', 110),\n",
       " ('Isle of Man', 111),\n",
       " ('Israel', 112),\n",
       " ('Italy', 113),\n",
       " ('Jamaica', 114),\n",
       " ('Japan', 115),\n",
       " ('Jersey', 116),\n",
       " ('Jordan', 117),\n",
       " ('Kazakhstan', 118),\n",
       " ('Kenya', 119),\n",
       " ('Kiribati', 120),\n",
       " ('Kuwait', 121),\n",
       " ('Kyrgyzstan', 122),\n",
       " ('Laos', 123),\n",
       " ('Latvia', 124),\n",
       " ('Lebanon', 125),\n",
       " ('Lesotho', 126),\n",
       " ('Liberia', 127),\n",
       " ('Libya', 128),\n",
       " ('Liechtenstein', 129),\n",
       " ('Lithuania', 130),\n",
       " ('Luxembourg', 131),\n",
       " ('Madagascar', 132),\n",
       " ('Madeira', 133),\n",
       " ('Malawi', 134),\n",
       " ('Malaysia', 135),\n",
       " ('Maldives', 136),\n",
       " ('Mali', 137),\n",
       " ('Malta', 138),\n",
       " ('Marshall Islands', 139),\n",
       " ('Martinique', 140),\n",
       " ('Mauritania', 141),\n",
       " ('Mauritius', 142),\n",
       " ('Mayotte', 143),\n",
       " ('Mexico', 144),\n",
       " ('Micronesia', 145),\n",
       " ('Moldova', 146),\n",
       " ('Monaco', 147),\n",
       " ('Mongolia', 148),\n",
       " ('Montenegro', 149),\n",
       " ('Montserrat', 150),\n",
       " ('Morocco', 151),\n",
       " ('Mozambique', 152),\n",
       " ('Myanmar', 153),\n",
       " ('Namibia', 154),\n",
       " ('Nauru', 155),\n",
       " ('Nepal', 156),\n",
       " ('Netherlands', 157),\n",
       " ('New Caledonia', 158),\n",
       " ('New Zealand', 159),\n",
       " ('Nicaragua', 160),\n",
       " ('Niger', 161),\n",
       " ('Nigeria', 162),\n",
       " ('Norfolk Island', 163),\n",
       " ('North Korea', 164),\n",
       " ('North Macedonia', 165),\n",
       " ('Northern Mariana Islands', 166),\n",
       " ('Norway', 167),\n",
       " ('Oman', 168),\n",
       " ('Pakistan', 169),\n",
       " ('Palau', 170),\n",
       " ('Palestinian Territory', 171),\n",
       " ('Panama', 172),\n",
       " ('Papua New Guinea', 173),\n",
       " ('Paraguay', 174),\n",
       " ('Peru', 175),\n",
       " ('Philippines', 176),\n",
       " ('Pitcairn', 177),\n",
       " ('Poland', 178),\n",
       " ('Portugal', 179),\n",
       " ('Puerto Rico', 180),\n",
       " ('Qatar', 181),\n",
       " ('Réunion', 182),\n",
       " ('Romania', 183),\n",
       " ('Russian Federation', 184),\n",
       " ('Rwanda', 185),\n",
       " ('Saba', 186),\n",
       " ('Saint Barthelemy', 187),\n",
       " ('Saint Eustatius', 188),\n",
       " ('Saint Helena', 189),\n",
       " ('Saint Kitts and Nevis', 190),\n",
       " ('Saint Lucia', 191),\n",
       " ('Saint Martin', 192),\n",
       " ('Saint Pierre and Miquelon', 193),\n",
       " ('Saint Vincent and the Grenadines', 194),\n",
       " ('Samoa', 195),\n",
       " ('San Marino', 196),\n",
       " ('Sao Tome and Principe', 197),\n",
       " ('Saudi Arabia', 198),\n",
       " ('Senegal', 199),\n",
       " ('Serbia', 200),\n",
       " ('Seychelles', 201),\n",
       " ('Sierra Leone', 202),\n",
       " ('Singapore', 203),\n",
       " ('Sint Maarten', 204),\n",
       " ('Slovakia', 205),\n",
       " ('Slovenia', 206),\n",
       " ('Solomon Islands', 207),\n",
       " ('Somalia', 208),\n",
       " ('South Africa', 209),\n",
       " ('South Georgia and South Sandwich Islands', 210),\n",
       " ('South Korea', 211),\n",
       " ('South Sudan', 212),\n",
       " ('Spain', 213),\n",
       " ('Sri Lanka', 214),\n",
       " ('Sudan', 215),\n",
       " ('Suriname', 216),\n",
       " ('Sweden', 217),\n",
       " ('Switzerland', 218),\n",
       " ('Syria', 219),\n",
       " ('Tajikistan', 220),\n",
       " ('Tanzania', 221),\n",
       " ('Thailand', 222),\n",
       " ('Timor-Leste', 223),\n",
       " ('Togo', 224),\n",
       " ('Tokelau', 225),\n",
       " ('Tonga', 226),\n",
       " ('Trinidad and Tobago', 227),\n",
       " ('Tunisia', 228),\n",
       " ('Turkey', 229),\n",
       " ('Turkmenistan', 230),\n",
       " ('Turks and Caicos Islands', 231),\n",
       " ('Tuvalu', 232),\n",
       " ('Uganda', 233),\n",
       " ('Ukraine', 234),\n",
       " ('United Arab Emirates', 235),\n",
       " ('United Kingdom', 236),\n",
       " ('United States', 237),\n",
       " ('United States Minor Outlying Islands', 238),\n",
       " ('Uruguay', 239),\n",
       " ('US Virgin Islands', 240),\n",
       " ('Uzbekistan', 241),\n",
       " ('Vanuatu', 242),\n",
       " ('Vatican City', 243),\n",
       " ('Venezuela', 244),\n",
       " ('Vietnam', 245),\n",
       " ('Wallis and Futuna', 246),\n",
       " ('Yemen', 247),\n",
       " ('Zambia', 248),\n",
       " ('Zimbabwe', 249)]"
      ]
     },
     "execution_count": 73,
     "metadata": {},
     "output_type": "execute_result"
    }
   ],
   "source": [
    "list_of_countries_tuple = []\n",
    "\n",
    "for country, index in zip(country_names, range(1, len(country_names) + 1)):\n",
    "    list_of_countries_tuple.append((country, index))\n",
    "list_of_countries_tuple"
   ]
  },
  {
   "cell_type": "code",
   "execution_count": 74,
   "metadata": {},
   "outputs": [
    {
     "data": {
      "application/vnd.jupyter.widget-view+json": {
       "model_id": "5dfd27be0a8b4fdbb36afc85df207044",
       "version_major": 2,
       "version_minor": 0
      },
      "text/plain": [
       "Dropdown(description='Country:', index=1, options=((' ', 1), ('Afghanistan', 2), ('Albania', 3), ('Algeria', 4…"
      ]
     },
     "metadata": {},
     "output_type": "display_data"
    }
   ],
   "source": [
    "origin_country_selection = widgets.Dropdown(\n",
    "    options=list_of_countries_tuple,\n",
    "    value=2,\n",
    "    description='Country:',\n",
    ")\n",
    "origin_country_selection"
   ]
  },
  {
   "cell_type": "code",
   "execution_count": 75,
   "metadata": {},
   "outputs": [
    {
     "data": {
      "application/vnd.jupyter.widget-view+json": {
       "model_id": "5dfd27be0a8b4fdbb36afc85df207044",
       "version_major": 2,
       "version_minor": 0
      },
      "text/plain": [
       "Dropdown(description='Country:', index=6, options=((' ', 1), ('Afghanistan', 2), ('Albania', 3), ('Algeria', 4…"
      ]
     },
     "metadata": {},
     "output_type": "display_data"
    }
   ],
   "source": [
    "origin_country_selection"
   ]
  },
  {
   "cell_type": "code",
   "execution_count": 79,
   "metadata": {},
   "outputs": [
    {
     "data": {
      "text/html": [
       "<div class=\"item_container\" style=\"height: auto; overflow: hidden; border: 1px solid #cfcfcf; border-radius: 2px; background: #f6fafa; line-height: 1.21429em; padding: 10px;\">\n",
       "                    <div class=\"item_left\" style=\"width: 210px; float: left;\">\n",
       "                       <a href='https://www.arcgis.com/home/item.html?id=294f8e98f07e487289caf9b63043b88e' target='_blank'>\n",
       "                        <img src='data:image/png;base64,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' width='200' height='133' class=\"itemThumbnail\">\n",
       "                       </a>\n",
       "                    </div>\n",
       "\n",
       "                    <div class=\"item_right\"     style=\"float: none; width: auto; overflow: hidden;\">\n",
       "                        <a href='https://www.arcgis.com/home/item.html?id=294f8e98f07e487289caf9b63043b88e' target='_blank'><b>World Countries</b>\n",
       "                        </a>\n",
       "                        <br/>World Countries<img src='https://www.arcgis.com/home/js/jsapi/esri/css/images/item_type_icons/websceneglobal16.png' style=\"vertical-align:middle;\">Web Scene by mla200000@utdallas.edu_UTDEPPS\n",
       "                        <br/>Last Modified: December 08, 2021\n",
       "                        <br/>0 comments, 3 views\n",
       "                    </div>\n",
       "                </div>\n",
       "                "
      ],
      "text/plain": [
       "<Item title:\"World Countries\" type:Web Scene owner:mla200000@utdallas.edu_UTDEPPS>"
      ]
     },
     "execution_count": 79,
     "metadata": {},
     "output_type": "execute_result"
    }
   ],
   "source": [
    "from arcgis.mapping import SceneLayer\n",
    "#s_layer = SceneLayer(url='https://utdepps.maps.arcgis.com/home/item.html?id=294f8e98f07e487289caf9b63043b88e')\n",
    "sl = gis.content.get(\"294f8e98f07e487289caf9b63043b88e\")\n",
    "sl\n",
    "\n",
    "#type(s_layer)\n",
    "#print(s_layer.properties.layers[0].name)\n"
   ]
  },
  {
   "cell_type": "code",
   "execution_count": null,
   "metadata": {},
   "outputs": [],
   "source": []
  }
 ],
 "metadata": {
  "esriNotebookRuntime": {
   "notebookRuntimeName": "ArcGIS Notebook Python 3 Standard",
   "notebookRuntimeVersion": "5.0"
  },
  "kernelspec": {
   "display_name": "Python 3 (ipykernel)",
   "language": "python",
   "name": "python3"
  },
  "language_info": {
   "codemirror_mode": {
    "name": "ipython",
    "version": 3
   },
   "file_extension": ".py",
   "mimetype": "text/x-python",
   "name": "python",
   "nbconvert_exporter": "python",
   "pygments_lexer": "ipython3",
   "version": "3.9.7"
  }
 },
 "nbformat": 4,
 "nbformat_minor": 2
}
