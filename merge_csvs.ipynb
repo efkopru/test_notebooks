{
 "cells": [
  {
   "cell_type": "code",
   "execution_count": 1,
   "id": "b1e21a10",
   "metadata": {},
   "outputs": [],
   "source": [
    "import os\n",
    "import pandas as pd"
   ]
  },
  {
   "cell_type": "code",
   "execution_count": 35,
   "id": "440a208a",
   "metadata": {},
   "outputs": [],
   "source": [
    "csv_1000 = pd.read_csv(r\"C:\\Temp\\asbuilt_finals\\1000_asbuilts_final.csv\")\n",
    "csv_2000 = pd.read_csv(r\"C:\\Temp\\asbuilt_finals\\2000_asbuilts_final.csv\")\n",
    "csv_3000 = pd.read_csv(r\"C:\\Temp\\asbuilt_finals\\3000_asbuilts_final.csv\")\n",
    "csv_4000 = pd.read_csv(r\"C:\\Temp\\asbuilt_finals\\4000_asbuilts_final.csv\")\n",
    "csv_5000 = pd.read_csv(r\"C:\\Temp\\asbuilt_finals\\5000_asbuilts_final.csv\")"
   ]
  },
  {
   "cell_type": "code",
   "execution_count": 36,
   "id": "8fc8e3da",
   "metadata": {},
   "outputs": [],
   "source": [
    "csvs = [csv_1000, csv_2000, csv_3000, csv_4000, csv_5000]"
   ]
  },
  {
   "cell_type": "code",
   "execution_count": 37,
   "id": "22bc140c",
   "metadata": {},
   "outputs": [],
   "source": [
    "all_csvs = pd.concat(csvs)"
   ]
  },
  {
   "cell_type": "code",
   "execution_count": 38,
   "id": "192fdfb7",
   "metadata": {},
   "outputs": [
    {
     "data": {
      "text/plain": [
       "2084"
      ]
     },
     "execution_count": 38,
     "metadata": {},
     "output_type": "execute_result"
    }
   ],
   "source": [
    "len(all_csvs[\"AsBuilt_Name\"].unique())"
   ]
  },
  {
   "cell_type": "code",
   "execution_count": 39,
   "id": "675d0608",
   "metadata": {},
   "outputs": [
    {
     "data": {
      "text/html": [
       "<div>\n",
       "<style scoped>\n",
       "    .dataframe tbody tr th:only-of-type {\n",
       "        vertical-align: middle;\n",
       "    }\n",
       "\n",
       "    .dataframe tbody tr th {\n",
       "        vertical-align: top;\n",
       "    }\n",
       "\n",
       "    .dataframe thead th {\n",
       "        text-align: right;\n",
       "    }\n",
       "</style>\n",
       "<table border=\"1\" class=\"dataframe\">\n",
       "  <thead>\n",
       "    <tr style=\"text-align: right;\">\n",
       "      <th></th>\n",
       "      <th>AsBuilt_Name</th>\n",
       "      <th>Pages</th>\n",
       "      <th>Pipe_type</th>\n",
       "    </tr>\n",
       "  </thead>\n",
       "  <tbody>\n",
       "    <tr>\n",
       "      <th>0</th>\n",
       "      <td>101 Southwest Parkway 1914</td>\n",
       "      <td>7</td>\n",
       "      <td>['Good' 'Unknown']</td>\n",
       "    </tr>\n",
       "    <tr>\n",
       "      <th>1</th>\n",
       "      <td>12_ Water on Midway Road 1035</td>\n",
       "      <td>1</td>\n",
       "      <td>['Unknown']</td>\n",
       "    </tr>\n",
       "    <tr>\n",
       "      <th>2</th>\n",
       "      <td>1491 Kealy Ave 1449</td>\n",
       "      <td>3</td>\n",
       "      <td>['Unknown' 'Good' 'Bad']</td>\n",
       "    </tr>\n",
       "    <tr>\n",
       "      <th>3</th>\n",
       "      <td>2143 North Stemmons 1703</td>\n",
       "      <td>4</td>\n",
       "      <td>['Unknown' 'Good']</td>\n",
       "    </tr>\n",
       "    <tr>\n",
       "      <th>4</th>\n",
       "      <td>Austin Ranch West Off-Site Sanitary Sewer 1770</td>\n",
       "      <td>11</td>\n",
       "      <td>['Unknown' 'Good' 'Bad']</td>\n",
       "    </tr>\n",
       "  </tbody>\n",
       "</table>\n",
       "</div>"
      ],
      "text/plain": [
       "                                     AsBuilt_Name  Pages  \\\n",
       "0                      101 Southwest Parkway 1914      7   \n",
       "1                   12_ Water on Midway Road 1035      1   \n",
       "2                             1491 Kealy Ave 1449      3   \n",
       "3                        2143 North Stemmons 1703      4   \n",
       "4  Austin Ranch West Off-Site Sanitary Sewer 1770     11   \n",
       "\n",
       "                  Pipe_type  \n",
       "0        ['Good' 'Unknown']  \n",
       "1               ['Unknown']  \n",
       "2  ['Unknown' 'Good' 'Bad']  \n",
       "3        ['Unknown' 'Good']  \n",
       "4  ['Unknown' 'Good' 'Bad']  "
      ]
     },
     "execution_count": 39,
     "metadata": {},
     "output_type": "execute_result"
    }
   ],
   "source": [
    "all_csvs.head()"
   ]
  },
  {
   "cell_type": "code",
   "execution_count": 40,
   "id": "5cea99ee",
   "metadata": {},
   "outputs": [],
   "source": [
    "all_csvs.to_csv(r\"C:\\Temp\\asbuilt_finals\\1000_5000_asbuilts_final.csv\")"
   ]
  },
  {
   "cell_type": "code",
   "execution_count": 13,
   "id": "6c4d30ae",
   "metadata": {},
   "outputs": [],
   "source": [
    "##########\n",
    "# Pages\n",
    "csv_1000 = pd.read_csv(r\"C:\\Temp\\asbuilt_finals\\1000_asbuilts_max_pages.csv\")\n",
    "csv_2000 = pd.read_csv(r\"C:\\Temp\\asbuilt_finals\\2000_asbuilts_max_pages.csv\")\n",
    "csv_3000 = pd.read_csv(r\"C:\\Temp\\asbuilt_finals\\3000_asbuilts_max_pages.csv\")\n",
    "csv_4000 = pd.read_csv(r\"C:\\Temp\\asbuilt_finals\\4000_asbuilts_max_pages.csv\")\n",
    "csv_5000 = pd.read_csv(r\"C:\\Temp\\asbuilt_finals\\5000_asbuilts_max_pages.csv\")\n",
    "csvs = [csv_1000, csv_2000, csv_3000, csv_4000, csv_5000]\n",
    "all_csvs = pd.concat(csvs)"
   ]
  },
  {
   "cell_type": "code",
   "execution_count": 41,
   "id": "b4b52417",
   "metadata": {},
   "outputs": [
    {
     "data": {
      "text/html": [
       "<div>\n",
       "<style scoped>\n",
       "    .dataframe tbody tr th:only-of-type {\n",
       "        vertical-align: middle;\n",
       "    }\n",
       "\n",
       "    .dataframe tbody tr th {\n",
       "        vertical-align: top;\n",
       "    }\n",
       "\n",
       "    .dataframe thead th {\n",
       "        text-align: right;\n",
       "    }\n",
       "</style>\n",
       "<table border=\"1\" class=\"dataframe\">\n",
       "  <thead>\n",
       "    <tr style=\"text-align: right;\">\n",
       "      <th></th>\n",
       "      <th>AsBuilt_Name</th>\n",
       "      <th>Pages</th>\n",
       "      <th>Pipe_type</th>\n",
       "    </tr>\n",
       "  </thead>\n",
       "  <tbody>\n",
       "    <tr>\n",
       "      <th>0</th>\n",
       "      <td>101 Southwest Parkway 1914</td>\n",
       "      <td>7</td>\n",
       "      <td>['Good' 'Unknown']</td>\n",
       "    </tr>\n",
       "    <tr>\n",
       "      <th>1</th>\n",
       "      <td>12_ Water on Midway Road 1035</td>\n",
       "      <td>1</td>\n",
       "      <td>['Unknown']</td>\n",
       "    </tr>\n",
       "    <tr>\n",
       "      <th>2</th>\n",
       "      <td>1491 Kealy Ave 1449</td>\n",
       "      <td>3</td>\n",
       "      <td>['Unknown' 'Good' 'Bad']</td>\n",
       "    </tr>\n",
       "    <tr>\n",
       "      <th>3</th>\n",
       "      <td>2143 North Stemmons 1703</td>\n",
       "      <td>4</td>\n",
       "      <td>['Unknown' 'Good']</td>\n",
       "    </tr>\n",
       "    <tr>\n",
       "      <th>4</th>\n",
       "      <td>Austin Ranch West Off-Site Sanitary Sewer 1770</td>\n",
       "      <td>11</td>\n",
       "      <td>['Unknown' 'Good' 'Bad']</td>\n",
       "    </tr>\n",
       "  </tbody>\n",
       "</table>\n",
       "</div>"
      ],
      "text/plain": [
       "                                     AsBuilt_Name  Pages  \\\n",
       "0                      101 Southwest Parkway 1914      7   \n",
       "1                   12_ Water on Midway Road 1035      1   \n",
       "2                             1491 Kealy Ave 1449      3   \n",
       "3                        2143 North Stemmons 1703      4   \n",
       "4  Austin Ranch West Off-Site Sanitary Sewer 1770     11   \n",
       "\n",
       "                  Pipe_type  \n",
       "0        ['Good' 'Unknown']  \n",
       "1               ['Unknown']  \n",
       "2  ['Unknown' 'Good' 'Bad']  \n",
       "3        ['Unknown' 'Good']  \n",
       "4  ['Unknown' 'Good' 'Bad']  "
      ]
     },
     "execution_count": 41,
     "metadata": {},
     "output_type": "execute_result"
    }
   ],
   "source": [
    "len(all_csvs[\"AsBuilt_Name\"].unique())\n",
    "all_csvs.head()"
   ]
  },
  {
   "cell_type": "code",
   "execution_count": 42,
   "id": "561377d5",
   "metadata": {},
   "outputs": [
    {
     "data": {
      "text/plain": [
       "2085"
      ]
     },
     "execution_count": 42,
     "metadata": {},
     "output_type": "execute_result"
    }
   ],
   "source": [
    "len(all_csvs)"
   ]
  },
  {
   "cell_type": "code",
   "execution_count": 23,
   "id": "a8b761b0",
   "metadata": {},
   "outputs": [],
   "source": [
    "all_csvs.to_csv(r\"C:\\Temp\\asbuilt_finals\\1000_5000_asbuilts_max_pages.csv\")"
   ]
  },
  {
   "cell_type": "code",
   "execution_count": 2,
   "id": "5b2c79b8",
   "metadata": {},
   "outputs": [
    {
     "data": {
      "text/html": [
       "<div>\n",
       "<style scoped>\n",
       "    .dataframe tbody tr th:only-of-type {\n",
       "        vertical-align: middle;\n",
       "    }\n",
       "\n",
       "    .dataframe tbody tr th {\n",
       "        vertical-align: top;\n",
       "    }\n",
       "\n",
       "    .dataframe thead th {\n",
       "        text-align: right;\n",
       "    }\n",
       "</style>\n",
       "<table border=\"1\" class=\"dataframe\">\n",
       "  <thead>\n",
       "    <tr style=\"text-align: right;\">\n",
       "      <th></th>\n",
       "      <th>AsBuilt_Name</th>\n",
       "      <th>Pages</th>\n",
       "      <th>Pipe_type</th>\n",
       "    </tr>\n",
       "  </thead>\n",
       "  <tbody>\n",
       "    <tr>\n",
       "      <th>0</th>\n",
       "      <td>$1.25 Dry Clean Super Center - 1257 FM 3040</td>\n",
       "      <td>20</td>\n",
       "      <td>['Unknown']</td>\n",
       "    </tr>\n",
       "    <tr>\n",
       "      <th>1</th>\n",
       "      <td>0 Cover</td>\n",
       "      <td>1</td>\n",
       "      <td>['Unknown']</td>\n",
       "    </tr>\n",
       "    <tr>\n",
       "      <th>2</th>\n",
       "      <td>0 Cover Sheet</td>\n",
       "      <td>1</td>\n",
       "      <td>['Unknown']</td>\n",
       "    </tr>\n",
       "    <tr>\n",
       "      <th>3</th>\n",
       "      <td>0 Final Plat</td>\n",
       "      <td>1</td>\n",
       "      <td>['Unknown']</td>\n",
       "    </tr>\n",
       "    <tr>\n",
       "      <th>4</th>\n",
       "      <td>0 Final Plat_PS Comments</td>\n",
       "      <td>1</td>\n",
       "      <td>['Unknown']</td>\n",
       "    </tr>\n",
       "  </tbody>\n",
       "</table>\n",
       "</div>"
      ],
      "text/plain": [
       "                                  AsBuilt_Name  Pages    Pipe_type\n",
       "0  $1.25 Dry Clean Super Center - 1257 FM 3040     20  ['Unknown']\n",
       "1                                      0 Cover      1  ['Unknown']\n",
       "2                                0 Cover Sheet      1  ['Unknown']\n",
       "3                                 0 Final Plat      1  ['Unknown']\n",
       "4                     0 Final Plat_PS Comments      1  ['Unknown']"
      ]
     },
     "execution_count": 2,
     "metadata": {},
     "output_type": "execute_result"
    }
   ],
   "source": [
    "spat_asbuilts = pd.read_csv(r\"C:\\Temp\\all_asbuilt_text_files\\csv_files\\asbuilts_final.csv\")\n",
    "spat_asbuilts.head()"
   ]
  },
  {
   "cell_type": "code",
   "execution_count": 44,
   "id": "34112d57",
   "metadata": {},
   "outputs": [
    {
     "data": {
      "text/plain": [
       "8558"
      ]
     },
     "execution_count": 44,
     "metadata": {},
     "output_type": "execute_result"
    }
   ],
   "source": [
    "len(spat_asbuilts)"
   ]
  },
  {
   "cell_type": "code",
   "execution_count": 3,
   "id": "4b13a64e",
   "metadata": {},
   "outputs": [
    {
     "ename": "NameError",
     "evalue": "name 'all_csvs' is not defined",
     "output_type": "error",
     "traceback": [
      "\u001b[1;31m---------------------------------------------------------------------------\u001b[0m",
      "\u001b[1;31mNameError\u001b[0m                                 Traceback (most recent call last)",
      "\u001b[1;32m~\\AppData\\Local\\Temp/ipykernel_776/623994613.py\u001b[0m in \u001b[0;36m<module>\u001b[1;34m\u001b[0m\n\u001b[1;32m----> 1\u001b[1;33m \u001b[0mmerged_df\u001b[0m \u001b[1;33m=\u001b[0m \u001b[0mall_csvs\u001b[0m\u001b[1;33m.\u001b[0m\u001b[0mmerge\u001b[0m\u001b[1;33m(\u001b[0m\u001b[0mspat_asbuilts\u001b[0m\u001b[1;33m,\u001b[0m \u001b[0mon\u001b[0m\u001b[1;33m=\u001b[0m\u001b[1;34m'AsBuilt_Name'\u001b[0m\u001b[1;33m,\u001b[0m \u001b[0mhow\u001b[0m\u001b[1;33m=\u001b[0m\u001b[1;34m\"inner\"\u001b[0m\u001b[1;33m)\u001b[0m\u001b[1;33m\u001b[0m\u001b[1;33m\u001b[0m\u001b[0m\n\u001b[0m\u001b[0;32m      2\u001b[0m \u001b[0mmerged_df\u001b[0m\u001b[1;33m.\u001b[0m\u001b[0mhead\u001b[0m\u001b[1;33m(\u001b[0m\u001b[1;33m)\u001b[0m\u001b[1;33m\u001b[0m\u001b[1;33m\u001b[0m\u001b[0m\n",
      "\u001b[1;31mNameError\u001b[0m: name 'all_csvs' is not defined"
     ]
    }
   ],
   "source": [
    "merged_df = all_csvs.merge(spat_asbuilts, on='AsBuilt_Name', how=\"inner\")\n",
    "merged_df.head()"
   ]
  },
  {
   "cell_type": "code",
   "execution_count": 46,
   "id": "cb21a7a8",
   "metadata": {},
   "outputs": [
    {
     "data": {
      "text/plain": [
       "6109"
      ]
     },
     "execution_count": 46,
     "metadata": {},
     "output_type": "execute_result"
    }
   ],
   "source": [
    "len(merged_df)"
   ]
  },
  {
   "cell_type": "code",
   "execution_count": 47,
   "id": "7f407f86",
   "metadata": {},
   "outputs": [],
   "source": [
    "merged_df.to_csv(r\"C:\\Temp\\asbuilt_finals\\spatial_indexed_asbuilts.csv\")"
   ]
  }
 ],
 "metadata": {
  "kernelspec": {
   "display_name": "Python 3 (ipykernel)",
   "language": "python",
   "name": "python3"
  },
  "language_info": {
   "codemirror_mode": {
    "name": "ipython",
    "version": 3
   },
   "file_extension": ".py",
   "mimetype": "text/x-python",
   "name": "python",
   "nbconvert_exporter": "python",
   "pygments_lexer": "ipython3",
   "version": "3.9.7"
  }
 },
 "nbformat": 4,
 "nbformat_minor": 5
}
