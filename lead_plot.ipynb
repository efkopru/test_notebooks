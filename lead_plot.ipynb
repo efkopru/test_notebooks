{
 "cells": [
  {
   "cell_type": "code",
   "execution_count": 1,
   "id": "0e78ca1b",
   "metadata": {},
   "outputs": [],
   "source": [
    "import numpy as np\n",
    "import pandas as pd\n",
    "import matplotlib.pyplot as plt\n",
    "import seaborn as sns\n",
    "import os \n"
   ]
  },
  {
   "cell_type": "code",
   "execution_count": 2,
   "id": "4f5db462",
   "metadata": {},
   "outputs": [],
   "source": [
    "data = pd.read_csv(r\"C:\\Temp\\all_asbuilt_text_files\\csv_files\\asbuilts_final.csv\")"
   ]
  },
  {
   "cell_type": "code",
   "execution_count": 3,
   "id": "607f6df6",
   "metadata": {},
   "outputs": [],
   "source": [
    "# sns.scatterplot(x=data.AsBuilt_Name, y=data.Pages)"
   ]
  },
  {
   "cell_type": "code",
   "execution_count": 4,
   "id": "dc0677f3",
   "metadata": {},
   "outputs": [],
   "source": [
    "#sns.scatterplot(x=data.AsBuilt_Name, y=data.Pipe_type)"
   ]
  },
  {
   "cell_type": "code",
   "execution_count": 5,
   "id": "5e51623d",
   "metadata": {},
   "outputs": [
    {
     "data": {
      "text/plain": [
       "pandas.core.series.Series"
      ]
     },
     "execution_count": 5,
     "metadata": {},
     "output_type": "execute_result"
    }
   ],
   "source": [
    "df = pd.DataFrame(data)\n",
    "df.head()\n",
    "type(df[\"Pipe_type\"])"
   ]
  },
  {
   "cell_type": "code",
   "execution_count": 6,
   "id": "84b8b2ef",
   "metadata": {},
   "outputs": [],
   "source": [
    "def label_class(row):\n",
    "    str_row = str(row[\"Pipe_type\"]).lower()\n",
    "    if \"good\" in str_row and \"bad\" in str_row:\n",
    "            return \"GoodBad\"\n",
    "    else:\n",
    "        if \"good\" in str_row:\n",
    "            return \"Good\"\n",
    "        else:\n",
    "            if \"bad\" in str_row:\n",
    "                return \"Bad\"\n",
    "            else:\n",
    "                return \"Unknown\"\n",
    "        "
   ]
  },
  {
   "cell_type": "code",
   "execution_count": 7,
   "id": "dbf476ac",
   "metadata": {},
   "outputs": [],
   "source": [
    "df[\"classification\"] = df.apply(lambda row: label_class(row), axis=1)"
   ]
  },
  {
   "cell_type": "code",
   "execution_count": 8,
   "id": "32d26691",
   "metadata": {},
   "outputs": [
    {
     "data": {
      "text/html": [
       "<div>\n",
       "<style scoped>\n",
       "    .dataframe tbody tr th:only-of-type {\n",
       "        vertical-align: middle;\n",
       "    }\n",
       "\n",
       "    .dataframe tbody tr th {\n",
       "        vertical-align: top;\n",
       "    }\n",
       "\n",
       "    .dataframe thead th {\n",
       "        text-align: right;\n",
       "    }\n",
       "</style>\n",
       "<table border=\"1\" class=\"dataframe\">\n",
       "  <thead>\n",
       "    <tr style=\"text-align: right;\">\n",
       "      <th></th>\n",
       "      <th>AsBuilt_Name</th>\n",
       "      <th>Pages</th>\n",
       "      <th>Pipe_type</th>\n",
       "      <th>classification</th>\n",
       "    </tr>\n",
       "  </thead>\n",
       "  <tbody>\n",
       "    <tr>\n",
       "      <th>0</th>\n",
       "      <td>$1.25 Dry Clean Super Center - 1257 FM 3040</td>\n",
       "      <td>20</td>\n",
       "      <td>['Unknown']</td>\n",
       "      <td>Unknown</td>\n",
       "    </tr>\n",
       "    <tr>\n",
       "      <th>1</th>\n",
       "      <td>0 Cover</td>\n",
       "      <td>1</td>\n",
       "      <td>['Unknown']</td>\n",
       "      <td>Unknown</td>\n",
       "    </tr>\n",
       "    <tr>\n",
       "      <th>2</th>\n",
       "      <td>0 Cover Sheet</td>\n",
       "      <td>1</td>\n",
       "      <td>['Unknown']</td>\n",
       "      <td>Unknown</td>\n",
       "    </tr>\n",
       "    <tr>\n",
       "      <th>3</th>\n",
       "      <td>0 Final Plat</td>\n",
       "      <td>1</td>\n",
       "      <td>['Unknown']</td>\n",
       "      <td>Unknown</td>\n",
       "    </tr>\n",
       "    <tr>\n",
       "      <th>4</th>\n",
       "      <td>0 Final Plat_PS Comments</td>\n",
       "      <td>1</td>\n",
       "      <td>['Unknown']</td>\n",
       "      <td>Unknown</td>\n",
       "    </tr>\n",
       "  </tbody>\n",
       "</table>\n",
       "</div>"
      ],
      "text/plain": [
       "                                  AsBuilt_Name  Pages    Pipe_type  \\\n",
       "0  $1.25 Dry Clean Super Center - 1257 FM 3040     20  ['Unknown']   \n",
       "1                                      0 Cover      1  ['Unknown']   \n",
       "2                                0 Cover Sheet      1  ['Unknown']   \n",
       "3                                 0 Final Plat      1  ['Unknown']   \n",
       "4                     0 Final Plat_PS Comments      1  ['Unknown']   \n",
       "\n",
       "  classification  \n",
       "0        Unknown  \n",
       "1        Unknown  \n",
       "2        Unknown  \n",
       "3        Unknown  \n",
       "4        Unknown  "
      ]
     },
     "execution_count": 8,
     "metadata": {},
     "output_type": "execute_result"
    }
   ],
   "source": [
    "df.head()"
   ]
  },
  {
   "cell_type": "code",
   "execution_count": 9,
   "id": "7f716e2a",
   "metadata": {},
   "outputs": [
    {
     "data": {
      "text/plain": [
       "array(['Unknown', 'Good', 'GoodBad', 'Bad'], dtype=object)"
      ]
     },
     "execution_count": 9,
     "metadata": {},
     "output_type": "execute_result"
    }
   ],
   "source": [
    "df[\"classification\"].unique()"
   ]
  },
  {
   "cell_type": "code",
   "execution_count": 11,
   "id": "ed0ac290",
   "metadata": {},
   "outputs": [
    {
     "data": {
      "text/plain": [
       "classification\n",
       "Bad         255\n",
       "Good       1001\n",
       "GoodBad    1618\n",
       "Unknown    2609\n",
       "Name: classification, dtype: int64"
      ]
     },
     "execution_count": 11,
     "metadata": {},
     "output_type": "execute_result"
    }
   ],
   "source": [
    "df.groupby('classification')['classification'].count()"
   ]
  },
  {
   "cell_type": "code",
   "execution_count": 12,
   "id": "2c2082fe",
   "metadata": {},
   "outputs": [],
   "source": [
    "df.to_csv(r\"C:\\Temp\\asbuilts_final_classified.csv\")"
   ]
  }
 ],
 "metadata": {
  "kernelspec": {
   "display_name": "Python 3 (ipykernel)",
   "language": "python",
   "name": "python3"
  },
  "language_info": {
   "codemirror_mode": {
    "name": "ipython",
    "version": 3
   },
   "file_extension": ".py",
   "mimetype": "text/x-python",
   "name": "python",
   "nbconvert_exporter": "python",
   "pygments_lexer": "ipython3",
   "version": "3.9.7"
  }
 },
 "nbformat": 4,
 "nbformat_minor": 5
}
