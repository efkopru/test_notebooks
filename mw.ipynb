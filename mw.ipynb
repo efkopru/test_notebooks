{
 "cells": [
  {
   "cell_type": "markdown",
   "metadata": {},
   "source": [
    "## Welcome to your notebook.\n"
   ]
  },
  {
   "cell_type": "markdown",
   "metadata": {},
   "source": [
    "#### Run this cell to connect to your GIS and get started:"
   ]
  },
  {
   "cell_type": "code",
   "execution_count": 2,
   "metadata": {},
   "outputs": [],
   "source": [
    "from arcgis.gis import GIS\n",
    "#gis = GIS(\"home\")\n"
   ]
  },
  {
   "cell_type": "code",
   "execution_count": 3,
   "metadata": {},
   "outputs": [],
   "source": [
    "# !pip install beautifulsoup4\n",
    "# !conda install beautifulsoup4\n",
    "import pandas as pd\n",
    "from bs4 import BeautifulSoup\n",
    "import requests\n",
    "import json\n",
    "import re\n"
   ]
  },
  {
   "cell_type": "code",
   "execution_count": 4,
   "metadata": {},
   "outputs": [
    {
     "name": "stdout",
     "output_type": "stream",
     "text": [
      "200\n"
     ]
    }
   ],
   "source": [
    "#url = \"https://stats.oecd.org/Index.aspx?DataSetCode=RMW\"\n",
    "url = 'https://en.wikipedia.org/wiki/List_of_countries_by_minimum_wage'\n",
    "wage_response = requests.get(url)\n",
    "print(wage_response.status_code)\n",
    "soup = BeautifulSoup(wage_response.content)\n",
    "# print(soup.prettify())\n"
   ]
  },
  {
   "cell_type": "code",
   "execution_count": 5,
   "metadata": {},
   "outputs": [],
   "source": [
    "# /html/body/div[3]/div[3]/div[5]/div[1]/table[2]/tbody/tr[187]/td[3]/span\n",
    "# min_wage_data_text = soup.find_all('tr', {\"id\" : re.compile('row*')})\n",
    "# min_wage_data_text[1]\n",
    "min_wage_data_text = soup.find_all('tr')\n",
    "min_wage_data_text[5].text.split('\\n')\n",
    "\n",
    "# country_names = soup.find_all(class_=re.compile('RowDimLab.*'))\n",
    "# country_names[0]\n",
    "min_wage_countries_list = []\n",
    "for country in min_wage_data_text:\n",
    "    if len(country) == 18:\n",
    "        #print(country.get_text())\n",
    "        #print(len(country.get_text().split('\\n')))\n",
    "        min_wage_countries_list.append(country.get_text().split('\\n'))"
   ]
  },
  {
   "cell_type": "code",
   "execution_count": 7,
   "metadata": {},
   "outputs": [],
   "source": [
    "#min_wage_countries_list\n",
    "# 1, 3, 5, 21\n",
    "min_wage_text_wiki_df = pd.DataFrame(min_wage_countries_list)\n",
    "#min_wage_text_wiki_df"
   ]
  },
  {
   "cell_type": "code",
   "execution_count": 8,
   "metadata": {},
   "outputs": [],
   "source": [
    "min_wages = min_wage_text_wiki_df[[1,3,5,21]]\n",
    "#min_wages"
   ]
  },
  {
   "cell_type": "code",
   "execution_count": 9,
   "metadata": {},
   "outputs": [
    {
     "data": {
      "text/html": [
       "<div>\n",
       "<style scoped>\n",
       "    .dataframe tbody tr th:only-of-type {\n",
       "        vertical-align: middle;\n",
       "    }\n",
       "\n",
       "    .dataframe tbody tr th {\n",
       "        vertical-align: top;\n",
       "    }\n",
       "\n",
       "    .dataframe thead th {\n",
       "        text-align: right;\n",
       "    }\n",
       "</style>\n",
       "<table border=\"1\" class=\"dataframe\">\n",
       "  <thead>\n",
       "    <tr style=\"text-align: right;\">\n",
       "      <th></th>\n",
       "      <th>CountryNames</th>\n",
       "      <th>Description</th>\n",
       "      <th>MinWage</th>\n",
       "      <th>LastUpdated</th>\n",
       "    </tr>\n",
       "  </thead>\n",
       "  <tbody>\n",
       "    <tr>\n",
       "      <th>0</th>\n",
       "      <td>Afghanistan</td>\n",
       "      <td>5,500 Afghani ($67) per month for non-permanen...</td>\n",
       "      <td>866</td>\n",
       "      <td>2017</td>\n",
       "    </tr>\n",
       "    <tr>\n",
       "      <th>1</th>\n",
       "      <td>Albania</td>\n",
       "      <td>30,000 Albanian lekë ($280) per month, in priv...</td>\n",
       "      <td>3,277</td>\n",
       "      <td>5 May 2017</td>\n",
       "    </tr>\n",
       "    <tr>\n",
       "      <th>2</th>\n",
       "      <td>Algeria</td>\n",
       "      <td>20,000 Algerian dinars ($156.19) per month, na...</td>\n",
       "      <td>2,010</td>\n",
       "      <td>1 May 2020</td>\n",
       "    </tr>\n",
       "    <tr>\n",
       "      <th>3</th>\n",
       "      <td>Andorra</td>\n",
       "      <td>€1050.40 per month, €6.06 per hour.[16]</td>\n",
       "      <td>14,397</td>\n",
       "      <td>None</td>\n",
       "    </tr>\n",
       "    <tr>\n",
       "      <th>4</th>\n",
       "      <td>Angola</td>\n",
       "      <td>21,454 kwanza ($58) per month; paid thirteen t...</td>\n",
       "      <td>764</td>\n",
       "      <td>1 April 2019</td>\n",
       "    </tr>\n",
       "    <tr>\n",
       "      <th>...</th>\n",
       "      <td>...</td>\n",
       "      <td>...</td>\n",
       "      <td>...</td>\n",
       "      <td>...</td>\n",
       "    </tr>\n",
       "    <tr>\n",
       "      <th>197</th>\n",
       "      <td>Venezuela</td>\n",
       "      <td>The minimum wage in Venezuela is 400,000 Venez...</td>\n",
       "      <td>10.32</td>\n",
       "      <td>None</td>\n",
       "    </tr>\n",
       "    <tr>\n",
       "      <th>198</th>\n",
       "      <td>Vietnam</td>\n",
       "      <td>Varies by region; Region I: VND 3,980,000 per ...</td>\n",
       "      <td>1,437</td>\n",
       "      <td>1 January 2018</td>\n",
       "    </tr>\n",
       "    <tr>\n",
       "      <th>199</th>\n",
       "      <td>Yemen</td>\n",
       "      <td>None; the minimum civil service wage was 21,00...</td>\n",
       "      <td></td>\n",
       "      <td>None</td>\n",
       "    </tr>\n",
       "    <tr>\n",
       "      <th>200</th>\n",
       "      <td>Zambia</td>\n",
       "      <td>Varies by sector; K993.60 Zambian kwacha ($81)...</td>\n",
       "      <td>925</td>\n",
       "      <td>10 September 2018</td>\n",
       "    </tr>\n",
       "    <tr>\n",
       "      <th>201</th>\n",
       "      <td>Zimbabwe</td>\n",
       "      <td>None, except for agricultural and domestic wor...</td>\n",
       "      <td></td>\n",
       "      <td>None</td>\n",
       "    </tr>\n",
       "  </tbody>\n",
       "</table>\n",
       "<p>202 rows × 4 columns</p>\n",
       "</div>"
      ],
      "text/plain": [
       "     CountryNames                                        Description MinWage  \\\n",
       "0     Afghanistan  5,500 Afghani ($67) per month for non-permanen...     866   \n",
       "1         Albania  30,000 Albanian lekë ($280) per month, in priv...   3,277   \n",
       "2         Algeria  20,000 Algerian dinars ($156.19) per month, na...   2,010   \n",
       "3         Andorra            €1050.40 per month, €6.06 per hour.[16]  14,397   \n",
       "4          Angola  21,454 kwanza ($58) per month; paid thirteen t...     764   \n",
       "..            ...                                                ...     ...   \n",
       "197     Venezuela  The minimum wage in Venezuela is 400,000 Venez...   10.32   \n",
       "198       Vietnam  Varies by region; Region I: VND 3,980,000 per ...   1,437   \n",
       "199         Yemen  None; the minimum civil service wage was 21,00...           \n",
       "200        Zambia  Varies by sector; K993.60 Zambian kwacha ($81)...     925   \n",
       "201      Zimbabwe  None, except for agricultural and domestic wor...           \n",
       "\n",
       "           LastUpdated  \n",
       "0                 2017  \n",
       "1           5 May 2017  \n",
       "2           1 May 2020  \n",
       "3                 None  \n",
       "4         1 April 2019  \n",
       "..                 ...  \n",
       "197               None  \n",
       "198     1 January 2018  \n",
       "199               None  \n",
       "200  10 September 2018  \n",
       "201               None  \n",
       "\n",
       "[202 rows x 4 columns]"
      ]
     },
     "execution_count": 9,
     "metadata": {},
     "output_type": "execute_result"
    }
   ],
   "source": [
    "min_wages.rename(columns={1: \"CountryNames\", 3: \"Description\", 5: \"MinWage\", 21: \"LastUpdated\"})"
   ]
  },
  {
   "cell_type": "code",
   "execution_count": null,
   "metadata": {},
   "outputs": [],
   "source": []
  }
 ],
 "metadata": {
  "esriNotebookRuntime": {
   "notebookRuntimeName": "ArcGIS Notebook Python 3 Standard",
   "notebookRuntimeVersion": "5.0"
  },
  "kernelspec": {
   "display_name": "Python 3 (ipykernel)",
   "language": "python",
   "name": "python3"
  },
  "language_info": {
   "codemirror_mode": {
    "name": "ipython",
    "version": 3
   },
   "file_extension": ".py",
   "mimetype": "text/x-python",
   "name": "python",
   "nbconvert_exporter": "python",
   "pygments_lexer": "ipython3",
   "version": "3.9.7"
  }
 },
 "nbformat": 4,
 "nbformat_minor": 2
}
