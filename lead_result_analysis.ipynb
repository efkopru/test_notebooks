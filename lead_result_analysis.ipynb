{
 "cells": [
  {
   "cell_type": "code",
   "execution_count": 11,
   "id": "5cfb28d4",
   "metadata": {},
   "outputs": [],
   "source": [
    "import pandas as pd\n",
    "import re\n",
    "import os"
   ]
  },
  {
   "cell_type": "code",
   "execution_count": 12,
   "id": "ca54230d",
   "metadata": {},
   "outputs": [],
   "source": [
    "def analyze_results(dir_path, csv_file):\n",
    "    df = pd.read_csv(csv_file)\n",
    "    df = df.rename(columns={\"Unnamed: 0\":\"index\"})\n",
    "    \n",
    "    # length of unique vals\n",
    "    print(\"len df : {} - len asbuilt unique : {} - len asbuilt page unique {}\".format(len(df),\n",
    "    len(df['AsBuilt_Name'].unique()),\n",
    "    len(df['AsBuilt_Page'].unique())))\n",
    "    \n",
    "    ## find total page info\n",
    "    df[\"Pages\"] = df.AsBuilt_Page.str.extract('(\\d+)')\n",
    "    print(\"Max page before: {} \".format(df[\"Pages\"].max()))\n",
    "    \n",
    "    # convert to int\n",
    "    df[[\"Pages\"]] = df[[\"Pages\"]].apply(pd.to_numeric)\n",
    "    print(\"Max page after: {} \".format(df[\"Pages\"].max()))\n",
    "    print(\"Len unique pages: {} \".format(len(df[\"Pages\"].unique())))\n",
    "    \n",
    "    # Save results    \n",
    "    save_path = os.path.join(dir_path, \"asbuilts_max_pages.csv\")\n",
    "    df.to_csv(save_path)\n",
    "    \n",
    "    # final results\n",
    "    new_df = df.groupby('AsBuilt_Name')['Pages'].max()\n",
    "    new_df = pd.DataFrame(new_df)\n",
    "    \n",
    "    df_good_or_bad = pd.DataFrame(df.groupby('AsBuilt_Name')['Pipe_type'].unique())\n",
    "    print(\"Derenzo\")\n",
    "    merged_df = new_df.merge(df_good_or_bad, on='AsBuilt_Name', how=\"left\")    \n",
    "    save_path = os.path.join(dir_path, \"asbuilts_final.csv\")\n",
    "    merged_df.to_csv(save_path)\n",
    "    print(\"Bitti - \")\n",
    "  \n",
    "                                                                                      "
   ]
  },
  {
   "cell_type": "code",
   "execution_count": 13,
   "id": "fb49368d",
   "metadata": {},
   "outputs": [
    {
     "name": "stdout",
     "output_type": "stream",
     "text": [
      "len df : 111745 - len asbuilt unique : 5483 - len asbuilt page unique 485\n",
      "Max page before: 99 \n",
      "Max page after: 485 \n",
      "Len unique pages: 485 \n",
      "Derenzo\n",
      "Bitti - \n"
     ]
    }
   ],
   "source": [
    "dir_path = r\"C:\\Temp\\all_asbuilt_text_files\\csv_files\"\n",
    "csv_file = os.path.join(dir_path, \"asbuilts_pipe_types.csv\")\n",
    "analyze_results(dir_path=dir_path, csv_file=csv_file)"
   ]
  },
  {
   "cell_type": "code",
   "execution_count": null,
   "id": "82868cff",
   "metadata": {},
   "outputs": [],
   "source": []
  }
 ],
 "metadata": {
  "kernelspec": {
   "display_name": "Python 3 (ipykernel)",
   "language": "python",
   "name": "python3"
  },
  "language_info": {
   "codemirror_mode": {
    "name": "ipython",
    "version": 3
   },
   "file_extension": ".py",
   "mimetype": "text/x-python",
   "name": "python",
   "nbconvert_exporter": "python",
   "pygments_lexer": "ipython3",
   "version": "3.9.7"
  }
 },
 "nbformat": 4,
 "nbformat_minor": 5
}
